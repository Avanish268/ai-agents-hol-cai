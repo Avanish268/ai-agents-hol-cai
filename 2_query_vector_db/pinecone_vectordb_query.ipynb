{
 "cells": [
  {
   "cell_type": "markdown",
   "metadata": {},
   "source": [
    "# 2. Working With Pinecone Vector Database\n",
    "Although Vector Databases have existed long before Large Language Models, vector DBs have become an important part of many LLM solutions. In particular, Retreival Augmented Generation (or RAG) architecture addresses LLM's halucinations and issues with longer-term memory by augmenting the user's prompt with the results of a search accross a vector DB. [Pinecone](https://www.pinecone.io/) is a cloud-based vector database that is easy to integrate with your Cloudera AI workflow, as this notebook shows. \n",
    "\n",
    "We pre-loaded the Pinecone Vector DB using Cloudera AI's Jobs feature that scraped a few sample policies, cleaned up the HTML tags and loaded each page into Pinecone. This notebook will focus on interacting with Pinecone from a Jupyter notebook.\n",
    "\n",
    "![Exercise 2 overview](../assets/exercise_2.png)\n",
    "\n",
    "### 2.1 Imports and global vars"
   ]
  },
  {
   "cell_type": "code",
   "execution_count": 1,
   "metadata": {
    "tags": []
   },
   "outputs": [
    {
     "name": "stderr",
     "output_type": "stream",
     "text": [
      "/home/cdsw/.local/lib/python3.10/site-packages/pinecone/data/index.py:1: TqdmWarning: IProgress not found. Please update jupyter and ipywidgets. See https://ipywidgets.readthedocs.io/en/stable/user_install.html\n",
      "  from tqdm.autonotebook import tqdm\n"
     ]
    }
   ],
   "source": [
    "import os\n",
    "import cml.data_v1 as cmldata\n",
    "from pinecone import Pinecone, ServerlessSpec\n",
    "from sentence_transformers import SentenceTransformer\n",
    "\n",
    "EMBEDDING_MODEL_REPO = \"sentence-transformers/all-mpnet-base-v2\"\n",
    "PINECONE_API_KEY = os.getenv('PINECONE_API_KEY')\n",
    "PINECONE_INDEX = os.getenv('PINECONE_INDEX')\n",
    "dimension = 768"
   ]
  },
  {
   "cell_type": "markdown",
   "metadata": {},
   "source": [
    "### 2.2 Initialize Pinecone connection\n",
    "Pinecone client is initialized with the parameters defined previously. "
   ]
  },
  {
   "cell_type": "code",
   "execution_count": 2,
   "metadata": {},
   "outputs": [
    {
     "name": "stdout",
     "output_type": "stream",
     "text": [
      "initialising Pinecone connection...\n",
      "Pinecone initialised\n",
      "Getting 'test-idx-2' as object...\n",
      "Success\n",
      "Total number of embeddings in Pinecone index is 3.\n"
     ]
    }
   ],
   "source": [
    "print(\"initialising Pinecone connection...\")\n",
    "pc = Pinecone(api_key=os.environ.get(\"PINECONE_API_KEY\"))\n",
    "    \n",
    "print(\"Pinecone initialised\")\n",
    "\n",
    "print(f\"Getting '{PINECONE_INDEX}' as object...\")\n",
    "index = pc.Index(PINECONE_INDEX)\n",
    "print(\"Success\")\n",
    "\n",
    "# Get latest statistics from index\n",
    "current_collection_stats = index.describe_index_stats()\n",
    "print('Total number of embeddings in Pinecone index is {}.'.format(current_collection_stats.get('total_vector_count')))"
   ]
  },
  {
   "cell_type": "markdown",
   "metadata": {},
   "source": [
    "### 2.3 Function to peform the vector search \n",
    "The idea is to find a chunk from the Knowledge Base that is \"close\" to what the original user's prompt is. We perform a semantic search using the user's question, find the nearest knowledge base chunk, and return the content of that chunk along with its source and score."
   ]
  },
  {
   "cell_type": "code",
   "execution_count": 6,
   "metadata": {},
   "outputs": [],
   "source": [
    "# Get embeddings for a user question and query Pinecone vector DB for nearest knowledge base chunk\n",
    "def get_nearest_chunk_from_pinecone_vectordb(index, question):\n",
    "    # Generate embedding for user question with embedding model\n",
    "    retriever = SentenceTransformer(EMBEDDING_MODEL_REPO)\n",
    "    xq = retriever.encode([question]).tolist()\n",
    "    xc = index.query(vector=xq, top_k=5,\n",
    "                 include_metadata=True)\n",
    "    \n",
    "    matching_files = []\n",
    "    scores = []\n",
    "    for match in xc['matches']:\n",
    "        # extract the 's3_prefix' within 'metadata'\n",
    "        s3_prefix = match['metadata']['s3_prefix']\n",
    "        # extract the individual scores for each vector\n",
    "        score = match['score']\n",
    "        scores.append(score)\n",
    "        matching_files.append(s3_prefix)\n",
    "\n",
    "    # Return text of the nearest knowledge base chunk \n",
    "    # Note that this ONLY uses the first matching document for semantic search. matching_files holds the top results so you can increase this if desired.\n",
    "    # response = load_context_chunk_from_data(matching_files[0])\n",
    "    response = \"file_contents\"\n",
    "    sources = matching_files[0]\n",
    "    score = scores[0]\n",
    "    return response, sources, score\n",
    "\n",
    "# Return the Knowledge Base doc based on Knowledge Base ID (S3 file path)\n",
    "def load_context_chunk_from_data(id_path):\n",
    "\n",
    "    CONNECTION_NAME = \"S3 Object Store\"\n",
    "    conn = cmldata.get_connection(CONNECTION_NAME)\n",
    "\n",
    "    # Sample usage\n",
    "    client = conn.get_base_connection()\n",
    "    file = client.get_object(Bucket=os.getenv('POLICY_BUCKET'), Key=id_path)\n",
    "    body = file[\"Body\"].read().decode(\"utf-8\")\n",
    "    client.close()\n",
    "    return body"
   ]
  },
  {
   "cell_type": "markdown",
   "metadata": {},
   "source": [
    "### 2.4 Examine the results of the vector search\n",
    "Given the text of the question, we can now perform a vector search and output the results in the notebook. An important detail here is the ability to interact with metadata (e.g. context source) which can be used to narrow down the search space and, more critically, for authorization. These approaches are out of scope of this lab. "
   ]
  },
  {
   "cell_type": "code",
   "execution_count": 7,
   "metadata": {},
   "outputs": [
    {
     "name": "stdout",
     "output_type": "stream",
     "text": [
      "\n",
      "Context Chunk: \n",
      "file_contents\n",
      "\n",
      "Context Source(s): \n",
      "policy-docs/return_policy.txt\n",
      "\n",
      "Pinecone Score: \n",
      "0.541406691\n"
     ]
    }
   ],
   "source": [
    "question = \"What is your return policy?\" ## (Swap with your own based on your dataset)\n",
    "\n",
    "context_chunk, sources, score = get_nearest_chunk_from_pinecone_vectordb(index, question)\n",
    "print(\"\\nContext Chunk: \")\n",
    "print(context_chunk)\n",
    "print(\"\\nContext Source(s): \")\n",
    "print(sources)\n",
    "print(\"\\nPinecone Score: \")\n",
    "print(score)"
   ]
  },
  {
   "cell_type": "markdown",
   "metadata": {},
   "source": [
    "### 2.5 Takeaways\n",
    "* Vector search is a critical component of any LLM app using RAG architecture\n",
    "* Cloudera's partner [Pinecone](https://www.pinecone.io/) provides a convenient SaaS offering for a Vector Database to support LLM RAG architecture\n",
    "* Metadata from each entry in the Vector DB can be used to refine searches and add custom authorization frameworks\n",
    "\n",
    "### Up Next: Go to Exercise 3\n",
    "Where a gradio app is launched to complete the first iteration of the Q&A chat use case."
   ]
  }
 ],
 "metadata": {
  "kernelspec": {
   "display_name": "Python 3 (ipykernel)",
   "language": "python",
   "name": "python3"
  }
 },
 "nbformat": 4,
 "nbformat_minor": 4
}
