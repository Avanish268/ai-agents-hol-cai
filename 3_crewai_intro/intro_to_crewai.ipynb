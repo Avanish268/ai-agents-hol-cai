{
 "cells": [
  {
   "cell_type": "markdown",
   "metadata": {
    "id": "ANCxcFs-qVl4"
   },
   "source": [
    "# 3. Getting Started with CrewAI\n",
    "Welcome to the 3th exercise in the Cloudera Agentic AI Hands on Lab. In this notebook you will get familiar the CrewAI library and how we can leverage it with Cloudera's AI Inference Service. This notebook is designed to walk you through the setup and application of these tools in an agentic worfklow context to create a robust and intelligence system. \n",
    "\n",
    "- **Configure AI Inference:** A private Meta LLama 3.1 8B model will serve as the backbone of our AI agents, providing the computational power and linguistic understanding necessary for processing complex queries.\n",
    "- **Set up CrewAI Agents and Tasks:** We will leverage the CrewAI library to set up our AI agents with clear roles, backstories and goals. We will also configure tasks for each agent to complete and identify tools that they can leverage to complete their tasks.\n",
    "- **Create Sequential Agentic Workflow:** Next, we will orchestrate these agents and tasks into a crew and workflow for them to complete.\n",
    "- **Running a Practical Example:** We will then run our example workflow by providing inputs for the agentic workflow to consider and then complete the tasks they are configured to do."
   ]
  },
  {
   "cell_type": "markdown",
   "metadata": {},
   "source": [
    "## 3.1 Configuring AI Inference\n",
    "\n",
    "Let's start by configuring AI Inference's Llama 3.1 8B model as the Base Model we will use for the agents."
   ]
  },
  {
   "cell_type": "code",
   "execution_count": 1,
   "metadata": {},
   "outputs": [
    {
     "name": "stderr",
     "output_type": "stream",
     "text": [
      "/home/cdsw/.local/lib/python3.10/site-packages/pydantic/_internal/_config.py:345: UserWarning: Valid config keys have changed in V2:\n",
      "* 'fields' has been removed\n",
      "  warnings.warn(message, UserWarning)\n"
     ]
    },
    {
     "name": "stdout",
     "output_type": "stream",
     "text": [
      "2025-02-12 02:52:00,689 [embedchain] [INFO] Swapped std-lib sqlite3 with pysqlite3 for ChromaDb compatibility. Your original version was 3.31.1.\n"
     ]
    }
   ],
   "source": [
    "from crewai import Agent, Task, Crew, Process, LLM\n",
    "from crewai_tools import SerperDevTool\n",
    "import os\n",
    "import litellm\n",
    "import json\n",
    "import warnings\n",
    "warnings.filterwarnings('ignore')"
   ]
  },
  {
   "cell_type": "markdown",
   "metadata": {},
   "source": [
    "Below, we obtain the JWT token to use with the Inference Service and configure LiteLLM to work with our OpenAI-compatible endpoint."
   ]
  },
  {
   "cell_type": "code",
   "execution_count": 2,
   "metadata": {},
   "outputs": [],
   "source": [
    "OPENAI_API_KEY=json.load(open(\"/tmp/jwt\"))[\"access_token\"]"
   ]
  },
  {
   "cell_type": "code",
   "execution_count": 3,
   "metadata": {},
   "outputs": [],
   "source": [
    "MODEL_NAME=\"meta/llama-3.1-8b-instruct\""
   ]
  },
  {
   "cell_type": "code",
   "execution_count": 4,
   "metadata": {},
   "outputs": [],
   "source": [
    "litellm.set_verbose=False\n",
    "\n",
    "llm = LLM(\n",
    "    model=\"openai/\" + MODEL_NAME,\n",
    "    api_key=OPENAI_API_KEY,\n",
    "    base_url=os.environ[\"OPENAI_BASE_URL\"]\n",
    ")"
   ]
  },
  {
   "cell_type": "markdown",
   "metadata": {},
   "source": [
    "## 3.2 Set Up CrewAI Agents and Tasks\n",
    "\n",
    "Next, let's set up the relevant Agents and Tasks using the CrewAI library. We will define 2 agents - One Researcher and One Reporting Analyst, and they will be tasked to research the topic assigned to them. For the purpose of this exercise, we will use the SerperDevTool to access the internet."
   ]
  },
  {
   "cell_type": "code",
   "execution_count": 5,
   "metadata": {
    "ExecuteTime": {
     "end_time": "2024-05-17T18:19:19.351863Z",
     "start_time": "2024-05-17T18:19:19.350191Z"
    },
    "cellView": "form",
    "id": "NsNLa6Qu0JEK"
   },
   "outputs": [],
   "source": [
    "from textwrap import dedent\n",
    "\n",
    "search_tool = SerperDevTool(\n",
    "    country=\"us\",\n",
    "    locale=\"en\",\n",
    "    location=\"Miami Beach, Florida, United States\",\n",
    "    n_results=5,\n",
    ")\n",
    "\n",
    "# First we define the Researcher Agent\n",
    "researcher_agent = Agent(\n",
    "    role=dedent((\n",
    "        \"\"\"\n",
    "        {topic} Senior Data Researcher\n",
    "        \"\"\")), # Think of this as the job title\n",
    "    backstory=dedent((\n",
    "        \"\"\"\n",
    "        You are a seasoned researcher with a knack for uncovering the latest developments in {topic}.\n",
    "\n",
    "        You are known for your ability to find the most relevant information and present it in a clear and concise manner.\n",
    "        \"\"\")), # This is the backstory of the agent, this helps the agent to understand the context of the task\n",
    "    goal=dedent((\n",
    "        \"\"\"\n",
    "        Uncover cutting-edge developments in {topic} and use the search_tool available to you to look up the latest information.\n",
    "        \n",
    "        Try to keep final answers in markdown format.\n",
    "        \"\"\")), # This is the goal that the agent is trying to achieve\n",
    "    tools=[search_tool],\n",
    "    allow_delegation=False,\n",
    "    max_iter=2,\n",
    "    max_retry_limit=3,\n",
    "    max_retries=3,\n",
    "    llm=llm,\n",
    "    verbose=True\n",
    ")\n",
    "\n",
    "# Next, we define the Reporting Analyst\n",
    "reporting_analyst = Agent(\n",
    "    role=dedent((\n",
    "        \"\"\"\n",
    "        {topic} Reporting Analyst\n",
    "        \"\"\")),\n",
    "    backstory=dedent((\n",
    "        \"\"\"\n",
    "        You are a meticulous analyst with a keen eye for detail. You are known for your ability to turn complex data into clear and concise reports,\n",
    "        making it easy for others to understand and act on the information you provide.\n",
    "        \"\"\")),\n",
    "    goal=dedent((\n",
    "        \"\"\"\n",
    "        Create detailed reports based on {topic} data analysis and research findings.\n",
    "        \"\"\")), # This is the goal that the agent is trying to achieve\n",
    "    allow_delegation=False,\n",
    "    max_iter=2,\n",
    "    max_retry_limit=3,\n",
    "    max_retries=3,\n",
    "    llm=llm,\n",
    "    verbose=True\n",
    ")"
   ]
  },
  {
   "cell_type": "markdown",
   "metadata": {},
   "source": [
    "Next, let's define the tasks for our agents to complete."
   ]
  },
  {
   "cell_type": "code",
   "execution_count": 6,
   "metadata": {
    "ExecuteTime": {
     "end_time": "2024-05-17T18:20:26.741468Z",
     "start_time": "2024-05-17T18:19:29.015624Z"
    },
    "cellView": "form",
    "id": "P8iHNKCfk9Rv"
   },
   "outputs": [],
   "source": [
    "# First, let's create a task for the researcher agent. Note below that we define which agent completes which task.\n",
    "research_task = Task(\n",
    "    description=dedent((\n",
    "        \"\"\"\n",
    "        Conduct thorough research about {topic}\n",
    "\n",
    "        Make sure you find any interesting and relevant information given the current year is 2025.\n",
    "        \"\"\")),\n",
    "    expected_output=dedent((\n",
    "        \"\"\"\n",
    "        A list with 2 to 4 bullet points of the most relevant information about {topic}\n",
    "        \"\"\")),\n",
    "    agent=researcher_agent\n",
    ")\n",
    "\n",
    "reporting_task = Task(\n",
    "    description=dedent((\n",
    "        \"\"\"\n",
    "        Review the context you got and expand each topic into a full section for a report.\n",
    "        Make sure the report is detailed and contains any and all relevant information.\n",
    "        \"\"\")),\n",
    "    expected_output=dedent((\n",
    "        \"\"\"\n",
    "        A fully fledge reports with the mains topics, each with a full section of information.\n",
    "        Formatted as markdown without '```'\n",
    "        \"\"\")),\n",
    "    agent=reporting_analyst,\n",
    "    output_file='report.md',\n",
    "    context=[research_task]\n",
    ")"
   ]
  },
  {
   "cell_type": "markdown",
   "metadata": {},
   "source": [
    "## 3.3 Create Sequential Agentic AI Workflow\n",
    "\n",
    "Now, let's put all of this together by placing the discrete agents and tasks into a crew."
   ]
  },
  {
   "cell_type": "code",
   "execution_count": 7,
   "metadata": {
    "ExecuteTime": {
     "end_time": "2024-05-17T18:26:09.810103Z",
     "start_time": "2024-05-17T18:25:59.838229Z"
    },
    "cellView": "form",
    "id": "BhAt-unGk4kA"
   },
   "outputs": [],
   "source": [
    "crew = Crew(\n",
    "        agents=[researcher_agent, reporting_analyst],\n",
    "        tasks=[research_task, reporting_task],\n",
    "        verbose=True,  # You can set it to True or False\n",
    "        # ↑ indicates the verbosity level for logging during execution.\n",
    "        process=Process.sequential\n",
    "    )"
   ]
  },
  {
   "cell_type": "markdown",
   "metadata": {},
   "source": [
    "## 3.4 Running a Practical Example\n",
    "\n",
    "Now, let's put all of this together by placing the discrete agents and tasks into a crew. First, we define an input topic. Feel free to change the topic to something else."
   ]
  },
  {
   "cell_type": "code",
   "execution_count": 10,
   "metadata": {
    "ExecuteTime": {
     "end_time": "2024-05-17T18:26:14.680431Z",
     "start_time": "2024-05-17T18:26:14.561004Z"
    },
    "cellView": "form",
    "id": "hZJwUoXasrhx"
   },
   "outputs": [],
   "source": [
    "# Notice here that the object we pass maps to the {topic} field we added to the agents and tasks.\n",
    "inputs = {\n",
    "        \"topic\": \"Top 5 Cities in Europe\",\n",
    "}"
   ]
  },
  {
   "cell_type": "markdown",
   "metadata": {},
   "source": [
    "Next, we create a function to run the crew with the given input. We have enabled verbose logging to help you see the agents execute each task."
   ]
  },
  {
   "cell_type": "code",
   "execution_count": 9,
   "metadata": {},
   "outputs": [
    {
     "name": "stdout",
     "output_type": "stream",
     "text": [
      "\u001b[1m\u001b[95m# Agent:\u001b[00m \u001b[1m\u001b[92m\u001b[00m\n",
      "\u001b[95m## Task:\u001b[00m \u001b[92m\n",
      "Conduct thorough research about Top 5 Cities in Europe\n",
      "\n",
      "Make sure you find any interesting and relevant information given the current year is 2025.\n",
      "\u001b[00m\n",
      "\n",
      "\n",
      "\u001b[1m\u001b[95m# Agent:\u001b[00m \u001b[1m\u001b[92m\u001b[00m\n",
      "\u001b[95m## Using tool:\u001b[00m \u001b[92mSearch the internet\u001b[00m\n",
      "\u001b[95m## Tool Input:\u001b[00m \u001b[92m\n",
      "\"{\\\"search_query\\\": \\\"Top 5 Cities in Europe 2025\\\"}\"\u001b[00m\n",
      "\u001b[95m## Tool Output:\u001b[00m \u001b[92m\n",
      "\n",
      "Search results: Title: Top European cities to visit in 2025 - The Social Hub\n",
      "Link: https://www.thesocialhub.co/blog/top-european-cities-to-visit-in-2025/\n",
      "Snippet: Why not explore bohemian Berlin, the ancient wonders of Rome or the colourful façades of Porto? From the UNESCO sites of Glasgow to the ...\n",
      "---\n",
      "Title: Best Places to Visit in Europe for 2025 - U.S. News Travel\n",
      "Link: https://travel.usnews.com/rankings/best-europe-vacations/\n",
      "Snippet: Best Places to Visit in Europe for 2025 · Swiss Alps · Rome · Venice · London, England · Paris · Florence · Amsterdam · Barcelona. #8 in Best ...\n",
      "---\n",
      "Title: 12 of the best places to go in Europe in spring 2025 - Lonely Planet\n",
      "Link: https://www.lonelyplanet.com/articles/where-to-go-in-europe-in-spring\n",
      "Snippet: March · 1. The Algarve, Portugal · 2. Mallorca, Spain · 3. Peloponnese, Greece · 4. Istanbul. Best for a city break. You might ...\n",
      "---\n",
      "Title: What do you think of these as 'European cities to visit in 2025'?\n",
      "Link: https://www.reddit.com/r/Europetravel/comments/1go0ubd/what_do_you_think_of_these_as_european_cities_to/\n",
      "Snippet: Madrid, Istanbul, Dubrovnik, Bordeaux, Lisbon, Seville, Tbilisi,Tallinn, Vienna, Copenhagen. Have you been to many of them? Did you like them?\n",
      "---\n",
      "Title: The Best Places to Go in Europe in 2025 - Condé Nast Traveler\n",
      "Link: https://www.cntraveler.com/story/best-places-to-go-in-europe-2025\n",
      "Snippet: From new hotel openings in Marseille to celebrations of musical legends in Vienna, and Geneva taking center stage in the global sporting arena.\n",
      "---\n",
      "\u001b[00m\n",
      "\n",
      "\n",
      "\u001b[1m\u001b[95m# Agent:\u001b[00m \u001b[1m\u001b[92m\u001b[00m\n",
      "\u001b[95m## Thought:\u001b[00m \u001b[92mThought: \n",
      "I have some good starting points, let me break down the information from these search results.\u001b[00m\n",
      "\u001b[95m## Using tool:\u001b[00m \u001b[92mSearch the internet\u001b[00m\n",
      "\u001b[95m## Tool Input:\u001b[00m \u001b[92m\n",
      "\"{\\\"search_query\\\": \\\"UNESCO sites in Glasgow 2025\\\"}\"\u001b[00m\n",
      "\u001b[95m## Tool Output:\u001b[00m \u001b[92m\n",
      "\n",
      "Search results: Title: Scotland's UNESCO Trail | VisitScotland\n",
      "Link: https://www.visitscotland.com/things-to-do/unesco-trail\n",
      "Snippet: We have seven World Heritage Sites, two Biosphere Reserves, two Global Geoparks, and four Creative Cities. Who and what is UNESCO?\n",
      "---\n",
      "Title: 2025 Hike World Heritage Reserve Waterfalls (Glasgow) - Tripadvisor\n",
      "Link: https://www.tripadvisor.com/AttractionProductReview-g186534-d17162404-Hike_World_Heritage_Reserve_Waterfalls-Glasgow_Scotland.html\n",
      "Snippet: The Falls of Clyde is a Wildlife Reserve, an UNESCO World Heritage Site in Scotland with breathtaking scenery, a beautiful woodland walk, where you can hear ...\n",
      "---\n",
      "Title: Glasgow | UNESCO in the UK\n",
      "Link: https://unesco.org.uk/our-sites/learning-cities/glasgow\n",
      "Snippet: Glasgow's vision is to have a world-class city with a thriving and inclusive economy where everyone can flourish and benefit from the city's success.\n",
      "---\n",
      "Title: UNESCO Sites Unseen - University of Glasgow\n",
      "Link: https://sitesunseen.gla.ac.uk/\n",
      "Snippet: UNESCO Sites Unseen. The Sites Unseen project builds on Scotland's UNESCO Trail, and seeks to take the existing trail forward into new areas.\n",
      "---\n",
      "Title: All the 13 Stunning UNESCO Sites in Scotland (2025) - Travelness\n",
      "Link: https://travelness.com/scotland-unesco-sites\n",
      "Snippet: UNESCO World Heritage Sites in Scotland · 1. The Antonine Wall · 2. Heart of Neolithic Orkney · 3. New Lanark · 4. The Old and New Towns of ...\n",
      "---\n",
      "\u001b[00m\n",
      "\n",
      "\n",
      "\u001b[1m\u001b[95m# Agent:\u001b[00m \u001b[1m\u001b[92m\u001b[00m\n",
      "\u001b[95m## Final Answer:\u001b[00m \u001b[92m\n",
      "* From the search results, **Top European cities to visit in 2025 - The Social Hub** indicates that the top 5 cities in Europe to visit in 2025 are not explicitly mentioned, but some of the mentions include:\n",
      "\t+ Bohemian Berlin\n",
      "\t+ Ancient wonders of Rome\n",
      "\t+ Colourful façades of Porto\n",
      "* The article **Best Places to Visit in Europe for 2025 - U.S. News Travel** ranks the best European cities to visit in 2025, and the top 5 cities are not explicitly mentioned, but some of the mentions include:\n",
      "\t+ Swiss Alps\n",
      "\t+ Rome\n",
      "\t+ Venice\n",
      "\t+ London, England\n",
      "\t+ Paris\n",
      "* The site **12 of the best places to go in Europe in spring 2025 - Lonely Planet** suggests visiting:\n",
      "\t+ The Algarve, Portugal\n",
      "\t+ Mallorca, Spain\n",
      "\t+ Peloponnese, Greece\n",
      "\t+ Istanbul for a city break\n",
      "* The search result **All the 13 Stunning UNESCO Sites in Scotland (2025) - Travelness** includes:\n",
      "\t+ The Antonine Wall\n",
      "\t+ Heart of Neolithic Orkney\n",
      "\t+ New Lanark\n",
      "\t+ The Old and New Towns of Edinburgh \n",
      "\t+ These UNESCO sites are not necessarily the top 5 cities, but they are notable attractions in Scotland\u001b[00m\n",
      "\n",
      "\n",
      "\u001b[1m\u001b[95m# Agent:\u001b[00m \u001b[1m\u001b[92m\u001b[00m\n",
      "\u001b[95m## Task:\u001b[00m \u001b[92m\n",
      "Review the context you got and expand each topic into a full section for a report.\n",
      "Make sure the report is detailed and contains any and all relevant information.\n",
      "\u001b[00m\n",
      "\n",
      "\n",
      "\u001b[1m\u001b[95m# Agent:\u001b[00m \u001b[1m\u001b[92m\u001b[00m\n",
      "\u001b[95m## Final Answer:\u001b[00m \u001b[92m\n",
      "# Top 5 Cities in Europe to Visit in 2025 Report\n",
      "\n",
      "## Executive Summary\n",
      "\n",
      "This report is a comprehensive analysis of the top 5 cities in Europe to visit in 2025, based on various sources and websites. The report highlights the key features and attractions of each city, including its cultural, historical, and natural significance.\n",
      "\n",
      "## Introduction\n",
      "\n",
      "Europe is a vast and diverse continent, offering a wealth of tourist attractions and experiences. With so many options to choose from, it can be challenging to determine which cities are the most worth visiting. In this report, we will examine the top 5 cities in Europe to visit in 2025, based on various sources and websites.\n",
      "\n",
      "## Methodology\n",
      "\n",
      "To determine the top 5 cities in Europe to visit in 2025, we analyzed the following sources:\n",
      "\n",
      "* The Social Hub's article on top European cities to visit in 2025\n",
      "* U.S. News Travel's article on the best European cities to visit in 2025\n",
      "* Lonely Planet's article on the 12 best places to go in Europe in spring 2025\n",
      "* Travelness's article on the 13 stunning UNESCO sites in Scotland (2025)\n",
      "\n",
      "## Top 5 City Analysis\n",
      "\n",
      "### 1. Berlin, Germany\n",
      "\n",
      "* Also known as the \"Bohemian Berlin\"\n",
      "* Rich cultural and historical heritage, with numerous museums and landmarks\n",
      "* Known for its vibrant nightlife, delicious food, and street art scene\n",
      "* Must-visit attractions include the Berlin Wall, Checkpoint Charlie, and Museum Island\n",
      "\n",
      "### 2. Rome, Italy\n",
      "\n",
      "* Home to numerous ancient ruins and historical landmarks, including the Colosseum and the Roman Forum\n",
      "* Known for its rich cultural heritage, delicious food, and stunning architecture\n",
      "* Must-visit attractions include the Pantheon, Trevi Fountain, and the Vatican City\n",
      "\n",
      "### 3. Porto, Portugal\n",
      "\n",
      "* Known for its colorful façades, historic center, and stunning riverside views\n",
      "* Famous for its Port wine production and delicious cuisine\n",
      "* Must-visit attractions include the Ribeira neighborhood, Porto Cathedral, and Luis I Bridge\n",
      "\n",
      "### 4. Venice, Italy\n",
      "\n",
      "* Unparalleled beauty and unique architecture, with its canals and gondolas\n",
      "* Known for its rich cultural heritage, delicious food, and stunning artwork\n",
      "* Must-visit attractions include St. Mark's Basilica, Doge's Palace, and the Grand Canal\n",
      "\n",
      "### 5. London, England\n",
      "\n",
      "* Rich cultural and historical heritage, with numerous museums, landmarks, and theaters\n",
      "* Known for its world-class dining scene, vibrant nightlife, and iconic landmarks\n",
      "* Must-visit attractions include Buckingham Palace, the British Museum, and the London Eye\n",
      "\n",
      "## Conclusion\n",
      "\n",
      "In conclusion, these five cities offer a wealth of cultural, historical, and natural experiences that make them must-visit destinations in Europe in 2025. From the vibrant nightlife of Berlin to the stunning architecture of Venice, each city has its unique charm and attractions that are sure to captivate visitors.\n",
      "\n",
      "## Recommendations\n",
      "\n",
      "Based on this report, we recommend that travelers consider visiting these five cities in Europe in 2025. With their rich cultural heritage, stunning landscapes, and unique experiences, they are sure to provide a once-in-a-lifetime experience for travelers.\n",
      "\n",
      "## Future Research Directions\n",
      "\n",
      "Future research directions could include:\n",
      "\n",
      "* Further analysis of the cultural and historical significance of each city\n",
      "* Examination of the economic and social impact of tourism on each city\n",
      "* Research on the environmental impact of tourism on each city\n",
      "\n",
      "We hope that this report provides a comprehensive and engaging analysis of the top 5 cities in Europe to visit in 2025.\u001b[00m\n",
      "\n",
      "\n"
     ]
    }
   ],
   "source": [
    "def run_crew():\n",
    "    result = crew.kickoff(inputs=inputs)\n",
    "run_crew()"
   ]
  },
  {
   "cell_type": "markdown",
   "metadata": {},
   "source": [
    "Congrats! You just created your first agent today! Next - we will show how agents can be stitched together to create complex applications."
   ]
  }
 ],
 "metadata": {
  "colab": {
   "include_colab_link": true,
   "private_outputs": true,
   "provenance": []
  },
  "kernelspec": {
   "display_name": "Python 3",
   "language": "python",
   "name": "python3"
  },
  "language_info": {
   "codemirror_mode": {
    "name": "ipython",
    "version": 3
   },
   "file_extension": ".py",
   "mimetype": "text/x-python",
   "name": "python",
   "nbconvert_exporter": "python",
   "pygments_lexer": "ipython3",
   "version": "3.10.14"
  }
 },
 "nbformat": 4,
 "nbformat_minor": 4
}
