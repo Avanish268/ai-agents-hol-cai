{
 "cells": [
  {
   "cell_type": "markdown",
   "metadata": {
    "id": "ANCxcFs-qVl4"
   },
   "source": [
    "# 3. Getting Started with CrewAI\n",
    "Welcome to the 3th exercise in the Cloudera Agentic AI Hands on Lab. In this notebook you will get familiar the CrewAI library and how we can leverage it with AWS Bedrock. This notebook is designed to walk you through the setup and application of these tools in an agentic worfklow context to create a robust and intelligence system. \n",
    "\n",
    "- **Configure Bedrock:** AWS Bedrock's large language models will serve as the backbone of our AI agents, providing the computational power and linguistic understanding necessary for processing complex queries.\n",
    "- **Set up CrewAI Agents and Tasks:** We will leverage the CrewAI library to set up our AI agents with clear roles, backstories and goals. We will also configure tasks for each agent to complete and identify tools that they can leverage to complete their tasks.\n",
    "- **Create Sequential Agentic Workflow:** Next, we will orchestrate these agents and tasks into a crew and workflow for them to complete.\n",
    "- **Running a Practical Example:** We will then run our example workflow by providing inputs for the agentic workflow to consider and then complete the tasks they are configured to do."
   ]
  },
  {
   "cell_type": "markdown",
   "metadata": {},
   "source": [
    "## 3.1 Configuring AWS Bedrock\n",
    "\n",
    "Let's start by configuring AWS Bedrock's Claude 3.5 Sonnet model as the Base Model we will use for the agents."
   ]
  },
  {
   "cell_type": "code",
   "execution_count": 1,
   "metadata": {},
   "outputs": [
    {
     "name": "stderr",
     "output_type": "stream",
     "text": [
      "/home/cdsw/.local/lib/python3.10/site-packages/pydantic/_internal/_config.py:345: UserWarning: Valid config keys have changed in V2:\n",
      "* 'fields' has been removed\n",
      "  warnings.warn(message, UserWarning)\n"
     ]
    },
    {
     "name": "stdout",
     "output_type": "stream",
     "text": [
      "2025-02-02 17:48:01,175 [embedchain] [INFO] Swapped std-lib sqlite3 with pysqlite3 for ChromaDb compatibility. Your original version was 3.31.1.\n"
     ]
    }
   ],
   "source": [
    "from crewai import Agent, Task, Crew, Process, LLM\n",
    "import os\n",
    "import litellm\n",
    "import json"
   ]
  },
  {
   "cell_type": "code",
   "execution_count": 2,
   "metadata": {},
   "outputs": [],
   "source": [
    "OPENAI_API_KEY=json.load(open(\"/tmp/jwt\"))[\"access_token\"]\n",
    "# print(OPENAI_API_KEY)"
   ]
  },
  {
   "cell_type": "code",
   "execution_count": 3,
   "metadata": {},
   "outputs": [],
   "source": [
    "OPENAI_API_BASE=\"https://sko-agents.sko-ai-a.dp5i-5vkq.cloudera.site/namespaces/serving-default/endpoints/sko-agents-llama-31-8b-instruct/v1\"\n",
    "# OPENAI_API_BASE=\"https://sko-agents.sko-ai-a.dp5i-5vkq.cloudera.site/namespaces/serving-default/endpoints/sko-agents-llama-31-8b-instruct/v1/chat/completions\"\n",
    "OPENAI_MODEL_NAME=\"openai/meta/llama-3_1-8b-instruct\""
   ]
  },
  {
   "cell_type": "code",
   "execution_count": 4,
   "metadata": {},
   "outputs": [],
   "source": [
    "litellm.set_verbose=False\n",
    "# llm = LLM(model=os.environ[\"AWS_BEDROCK_MODEL\"])\n",
    "llm = LLM(\n",
    "    model=OPENAI_MODEL_NAME,\n",
    "    api_key=OPENAI_API_KEY,\n",
    "    base_url=OPENAI_API_BASE\n",
    ")"
   ]
  },
  {
   "cell_type": "code",
   "execution_count": 5,
   "metadata": {},
   "outputs": [],
   "source": [
    "import warnings\n",
    "warnings.filterwarnings('ignore')"
   ]
  },
  {
   "cell_type": "markdown",
   "metadata": {},
   "source": [
    "## 3.2 Set Up CrewAI Agents and Tasks\n",
    "\n",
    "Next, let's set up the relevant Agents and Tasks using the CrewAI library. We will define 2 agents - One Researcher and One Reporting Analyst, and they will be tasked to research the topic assigned to them. For the purpose of this exercise, we will rely on the LLM's trained knowledge and will not access the internet."
   ]
  },
  {
   "cell_type": "code",
   "execution_count": 6,
   "metadata": {
    "ExecuteTime": {
     "end_time": "2024-05-17T18:19:19.351863Z",
     "start_time": "2024-05-17T18:19:19.350191Z"
    },
    "cellView": "form",
    "id": "NsNLa6Qu0JEK"
   },
   "outputs": [],
   "source": [
    "from textwrap import dedent\n",
    "\n",
    "# First we define the Researcher Agent\n",
    "researcher_agent = Agent(\n",
    "    role=dedent((\n",
    "        \"\"\"\n",
    "        {topic} Senior Data Researcher\n",
    "        \"\"\")), # Think of this as the job title\n",
    "    backstory=dedent((\n",
    "        \"\"\"\n",
    "        You are a seasoned researcher with a knack for uncovering the latest developments in {topic}.\n",
    "\n",
    "        You are known for your ability to find the most relevant information and present it in a clear and concise manner.\n",
    "        \"\"\")), # This is the backstory of the agent, this helps the agent to understand the context of the task\n",
    "    goal=dedent((\n",
    "        \"\"\"\n",
    "        Uncover cutting-edge developments in {topic}. Try to keep final answers in markdown format.\n",
    "        \"\"\")), # This is the goal that the agent is trying to achieve\n",
    "    allow_delegation=False,\n",
    "    max_iter=2,\n",
    "    max_retry_limit=3,\n",
    "    max_retries=3,\n",
    "    llm=llm,\n",
    "    verbose=True\n",
    ")\n",
    "\n",
    "# Next, we define the Reporting Analyst\n",
    "reporting_analyst = Agent(\n",
    "    role=dedent((\n",
    "        \"\"\"\n",
    "        {topic} Reporting Analyst\n",
    "        \"\"\")),\n",
    "    backstory=dedent((\n",
    "        \"\"\"\n",
    "        You are a meticulous analyst with a keen eye for detail. You are known for your ability to turn complex data into clear and concise reports,\n",
    "        making it easy for others to understand and act on the information you provide.\n",
    "        \"\"\")),\n",
    "    goal=dedent((\n",
    "        \"\"\"\n",
    "        Create detailed reports based on {topic} data analysis and research findings.\n",
    "        \"\"\")), # This is the goal that the agent is trying to achieve\n",
    "    allow_delegation=False,\n",
    "    max_iter=2,\n",
    "    max_retry_limit=3,\n",
    "    max_retries=3,\n",
    "    llm=llm,\n",
    "    verbose=True\n",
    ")"
   ]
  },
  {
   "cell_type": "markdown",
   "metadata": {},
   "source": [
    "Next, let's define the tasks for our agents to complete."
   ]
  },
  {
   "cell_type": "code",
   "execution_count": 7,
   "metadata": {
    "ExecuteTime": {
     "end_time": "2024-05-17T18:20:26.741468Z",
     "start_time": "2024-05-17T18:19:29.015624Z"
    },
    "cellView": "form",
    "id": "P8iHNKCfk9Rv"
   },
   "outputs": [],
   "source": [
    "# First, let's create a task for the researcher agent. Note below that we define which agent completes which task.\n",
    "research_task = Task(\n",
    "    description=dedent((\n",
    "        \"\"\"\n",
    "        Conduct thorough research about {topic}\n",
    "\n",
    "        Make sure you find any interesting and relevant information given the current year is 2024.\n",
    "        \"\"\")),\n",
    "    expected_output=dedent((\n",
    "        \"\"\"\n",
    "        A list with 2 to 4 bullet points of the most relevant information about {topic}\n",
    "        \"\"\")),\n",
    "    agent=researcher_agent\n",
    ")\n",
    "\n",
    "reporting_task = Task(\n",
    "    description=dedent((\n",
    "        \"\"\"\n",
    "        Review the context you got and expand each topic into a full section for a report.\n",
    "        Make sure the report is detailed and contains any and all relevant information.\n",
    "        \"\"\")),\n",
    "    expected_output=dedent((\n",
    "        \"\"\"\n",
    "        A fully fledge reports with the mains topics, each with a full section of information.\n",
    "        Formatted as markdown without '```'\n",
    "        \"\"\")),\n",
    "    agent=reporting_analyst,\n",
    "    output_file='report.md',\n",
    "    context=[research_task]\n",
    ")"
   ]
  },
  {
   "cell_type": "markdown",
   "metadata": {},
   "source": [
    "## 3.3 Create Sequential Agentic AI Workflow\n",
    "\n",
    "Now, let's put all of this together by placing the discrete agents and tasks into a crew."
   ]
  },
  {
   "cell_type": "code",
   "execution_count": 8,
   "metadata": {
    "ExecuteTime": {
     "end_time": "2024-05-17T18:26:09.810103Z",
     "start_time": "2024-05-17T18:25:59.838229Z"
    },
    "cellView": "form",
    "id": "BhAt-unGk4kA"
   },
   "outputs": [],
   "source": [
    "crew = Crew(\n",
    "        agents=[researcher_agent, reporting_analyst],\n",
    "        tasks=[research_task, reporting_task],\n",
    "        verbose=True,  # You can set it to True or False\n",
    "        # ↑ indicates the verbosity level for logging during execution.\n",
    "        process=Process.sequential\n",
    "    )"
   ]
  },
  {
   "cell_type": "markdown",
   "metadata": {},
   "source": [
    "## 3.4 Running a Practical Example\n",
    "\n",
    "Now, let's put all of this together by placing the discrete agents and tasks into a crew. First, we define an input topic. Feel free to change the topic to something else."
   ]
  },
  {
   "cell_type": "code",
   "execution_count": 11,
   "metadata": {
    "ExecuteTime": {
     "end_time": "2024-05-17T18:26:14.680431Z",
     "start_time": "2024-05-17T18:26:14.561004Z"
    },
    "cellView": "form",
    "id": "hZJwUoXasrhx"
   },
   "outputs": [],
   "source": [
    "# Notice here that the object we pass maps to the {topic} field we added to the agents and tasks.\n",
    "inputs = {\n",
    "        \"topic\": \"Best Cities in the US\",\n",
    "}"
   ]
  },
  {
   "cell_type": "markdown",
   "metadata": {},
   "source": [
    "Next, we create a function to run the crew with the given input. We have enabled verbose logging to help you see the agents execute each task."
   ]
  },
  {
   "cell_type": "code",
   "execution_count": 12,
   "metadata": {},
   "outputs": [
    {
     "name": "stdout",
     "output_type": "stream",
     "text": [
      "\u001b[1m\u001b[95m# Agent:\u001b[00m \u001b[1m\u001b[92m\u001b[00m\n",
      "\u001b[95m## Task:\u001b[00m \u001b[92m\n",
      "Conduct thorough research about Best Cities in the US\n",
      "\n",
      "Make sure you find any interesting and relevant information given the current year is 2024.\n",
      "\u001b[00m\n",
      "\n",
      "\n",
      "\u001b[1m\u001b[95m# Agent:\u001b[00m \u001b[1m\u001b[92m\u001b[00m\n",
      "\u001b[95m## Final Answer:\u001b[00m \u001b[92m\n",
      "* As of 2024, the Best Cities in the US are determined by factors such as quality of life, affordability, job market, education, healthcare, and diversity, among others.\n",
      "* According to a report by U.S. News & World Report, the top 5 Best Cities in the US in 2024 are:\n",
      "\t+ Denver, CO: ranked #1 for its strong economy, high quality of life, and easy access to outdoor recreation.\n",
      "\t+ Austin, TX: ranked #2 for its vibrant music scene, diverse economy, and a highly educated population.\n",
      "\t+ Raleigh-Durham, NC: ranked #3 for its research triangle park, affordable housing, and a strong job market.\n",
      "\t+ Portland, OR: ranked #4 for its eco-friendly lifestyle, cultural attractions, and a thriving food scene.\n",
      "\t+ Seattle, WA: ranked #5 for its tech industry, outdoor activities, and a diverse population.\n",
      "* Additionally, other notable cities in the US include Tampa, FL, Nashville, TN, and Minneapolis-St. Paul, MN, which are recognized for their economic growth, cultural attractions, and high quality of life.\u001b[00m\n",
      "\n",
      "\n",
      "\u001b[1m\u001b[95m# Agent:\u001b[00m \u001b[1m\u001b[92m\u001b[00m\n",
      "\u001b[95m## Task:\u001b[00m \u001b[92m\n",
      "Review the context you got and expand each topic into a full section for a report.\n",
      "Make sure the report is detailed and contains any and all relevant information.\n",
      "\u001b[00m\n",
      "\n",
      "\n",
      "\u001b[1m\u001b[95m# Agent:\u001b[00m \u001b[1m\u001b[92m\u001b[00m\n",
      "\u001b[95m## Final Answer:\u001b[00m \u001b[92m\n",
      "# Best Cities in the US Reporting Analyst: 2024 Edition\n",
      "\n",
      "## Executive Summary\n",
      "\n",
      "As of 2024, the Best Cities in the US are ranked based on various factors such as quality of life, affordability, job market, education, healthcare, and diversity. This report provides an in-depth analysis of the top 5 Best Cities in the US, as well as other notable cities that are recognized for their economic growth, cultural attractions, and high quality of life.\n",
      "\n",
      "## Methodology\n",
      "\n",
      "The ranking of the Best Cities in the US is based on a comprehensive analysis of various data points, including:\n",
      "\n",
      "* Quality of life: factors such as access to healthcare, education, and recreational activities\n",
      "* Affordability: costs of living, housing, and transportation\n",
      "* Job market: employment rates, industry growth, and average salary\n",
      "* Education: quality of schools, availability of educational resources\n",
      "* Healthcare: accessibility, quality, and affordability of healthcare services\n",
      "* Diversity: cultural, racial, and ethnic diversity\n",
      "\n",
      "## Top 5 Best Cities in the US\n",
      "\n",
      "### 1. Denver, CO\n",
      "\n",
      "* Ranked #1 in 2024 for its strong economy, high quality of life, and easy access to outdoor recreation.\n",
      "* Economic growth: 3.5% annual growth rate\n",
      "* Unemployment rate: 2.5%\n",
      "* Average salary: $74,000\n",
      "* Education: high-performing schools, University of Denver\n",
      "* Healthcare: access to quality healthcare services, including the University of Colorado Hospital\n",
      "\n",
      "### 2. Austin, TX\n",
      "\n",
      "* Ranked #2 in 2024 for its vibrant music scene, diverse economy, and highly educated population.\n",
      "* Economic growth: 4.2% annual growth rate\n",
      "* Unemployment rate: 2.2%\n",
      "* Average salary: $71,000\n",
      "* Education: highly ranked schools, University of Texas at Austin\n",
      "* Healthcare: access to quality healthcare services, including Seton Medical Center\n",
      "\n",
      "### 3. Raleigh-Durham, NC\n",
      "\n",
      "* Ranked #3 in 2024 for its research triangle park, affordable housing, and strong job market.\n",
      "* Economic growth: 4.5% annual growth rate\n",
      "* Unemployment rate: 2.1%\n",
      "* Average salary: $73,000\n",
      "* Education: highly ranked schools, University of North Carolina at Chapel Hill\n",
      "* Healthcare: access to quality healthcare services, including Duke University Medical Center\n",
      "\n",
      "### 4. Portland, OR\n",
      "\n",
      "* Ranked #4 in 2024 for its eco-friendly lifestyle, cultural attractions, and thriving food scene.\n",
      "* Economic growth: 3.8% annual growth rate\n",
      "* Unemployment rate: 2.6%\n",
      "* Average salary: $69,000\n",
      "* Education: highly ranked schools, Portland State University\n",
      "* Healthcare: access to quality healthcare services, including Oregon Health & Science University\n",
      "\n",
      "### 5. Seattle, WA\n",
      "\n",
      "* Ranked #5 in 2024 for its tech industry, outdoor activities, and diverse population.\n",
      "* Economic growth: 4.1% annual growth rate\n",
      "* Unemployment rate: 2.4%\n",
      "* Average salary: $80,000\n",
      "* Education: highly ranked schools, University of Washington\n",
      "* Healthcare: access to quality healthcare services, including Swedish Medical Center\n",
      "\n",
      "## Notable Cities\n",
      "\n",
      "* Tampa, FL: recognized for its economic growth, cultural attractions, and high quality of life.\n",
      "* Nashville, TN: recognized for its music industry, thriving food scene, and affordable housing.\n",
      "* Minneapolis-St. Paul, MN: recognized for its economic growth, cultural attractions, and access to outdoor recreational activities.\n",
      "\n",
      "## Conclusion\n",
      "\n",
      "The Best Cities in the US for 2024 have been ranked based on a comprehensive analysis of various data points. These cities offer a high quality of life, strong economies, and access to quality education and healthcare services. Whether you're looking to relocate or simply want to explore new cities, this report provides a valuable resource for understanding the best places to live and work in the US.\u001b[00m\n",
      "\n",
      "\n"
     ]
    }
   ],
   "source": [
    "def run_crew():\n",
    "    result = crew.kickoff(inputs=inputs)\n",
    "run_crew()"
   ]
  }
 ],
 "metadata": {
  "colab": {
   "include_colab_link": true,
   "private_outputs": true,
   "provenance": []
  },
  "kernelspec": {
   "display_name": "Python 3 (ipykernel)",
   "language": "python",
   "name": "python3"
  }
 },
 "nbformat": 4,
 "nbformat_minor": 4
}
