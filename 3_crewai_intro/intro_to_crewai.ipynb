{
 "cells": [
  {
   "cell_type": "markdown",
   "metadata": {
    "id": "ANCxcFs-qVl4"
   },
   "source": [
    "# 3. Getting Started with CrewAI\n",
    "Welcome to the 3th exercise in the Cloudera Agentic AI Hands on Lab. In this notebook you will get familiar the CrewAI library and how we can leverage it with Cloudera's AI Inference Service. This notebook is designed to walk you through the setup and application of these tools in an agentic worfklow context to create a robust and intelligence system. \n",
    "\n",
    "- **Configure AI Inference:** A private Meta LLama 3.1 8B model will serve as the backbone of our AI agents, providing the computational power and linguistic understanding necessary for processing complex queries.\n",
    "- **Set up CrewAI Agents and Tasks:** We will leverage the CrewAI library to set up our AI agents with clear roles, backstories and goals. We will also configure tasks for each agent to complete and identify tools that they can leverage to complete their tasks.\n",
    "- **Create Sequential Agentic Workflow:** Next, we will orchestrate these agents and tasks into a crew and workflow for them to complete.\n",
    "- **Running a Practical Example:** We will then run our example workflow by providing inputs for the agentic workflow to consider and then complete the tasks they are configured to do."
   ]
  },
  {
   "cell_type": "markdown",
   "metadata": {},
   "source": [
    "## 3.1 Configuring AI Inference\n",
    "\n",
    "Let's start by configuring AI Inference's Llama 3.1 8B model as the Base Model we will use for the agents."
   ]
  },
  {
   "cell_type": "code",
   "execution_count": 1,
   "metadata": {},
   "outputs": [
    {
     "name": "stderr",
     "output_type": "stream",
     "text": [
      "/home/cdsw/.local/lib/python3.10/site-packages/pydantic/_internal/_config.py:345: UserWarning: Valid config keys have changed in V2:\n",
      "* 'fields' has been removed\n",
      "  warnings.warn(message, UserWarning)\n"
     ]
    },
    {
     "name": "stdout",
     "output_type": "stream",
     "text": [
      "2025-02-12 00:30:13,532 [embedchain] [INFO] Swapped std-lib sqlite3 with pysqlite3 for ChromaDb compatibility. Your original version was 3.31.1.\n"
     ]
    }
   ],
   "source": [
    "from crewai import Agent, Task, Crew, Process, LLM\n",
    "from crewai_tools import SerperDevTool\n",
    "import os\n",
    "import litellm\n",
    "import json\n",
    "import warnings\n",
    "warnings.filterwarnings('ignore')"
   ]
  },
  {
   "cell_type": "code",
   "execution_count": 2,
   "metadata": {},
   "outputs": [],
   "source": [
    "OPENAI_API_KEY=json.load(open(\"/tmp/jwt\"))[\"access_token\"]"
   ]
  },
  {
   "cell_type": "code",
   "execution_count": null,
   "metadata": {},
   "outputs": [],
   "source": [
    "MODEL_NAME=\"meta/llama-3.1-8b-instruct\""
   ]
  },
  {
   "cell_type": "code",
   "execution_count": 4,
   "metadata": {},
   "outputs": [],
   "source": [
    "litellm.set_verbose=False\n",
    "\n",
    "llm = LLM(\n",
    "    model=\"openai/\" + MODEL_NAME,\n",
    "    api_key=OPENAI_API_KEY,\n",
    "    base_url=os.environ[\"OPENAI_BASE_URL\"]\n",
    ")"
   ]
  },
  {
   "cell_type": "markdown",
   "metadata": {},
   "source": [
    "## 3.2 Set Up CrewAI Agents and Tasks\n",
    "\n",
    "Next, let's set up the relevant Agents and Tasks using the CrewAI library. We will define 2 agents - One Researcher and One Reporting Analyst, and they will be tasked to research the topic assigned to them. For the purpose of this exercise, we will use the SerperDevTool to access the internet."
   ]
  },
  {
   "cell_type": "code",
   "execution_count": 6,
   "metadata": {
    "ExecuteTime": {
     "end_time": "2024-05-17T18:19:19.351863Z",
     "start_time": "2024-05-17T18:19:19.350191Z"
    },
    "cellView": "form",
    "id": "NsNLa6Qu0JEK"
   },
   "outputs": [],
   "source": [
    "from textwrap import dedent\n",
    "\n",
    "search_tool = SerperDevTool(\n",
    "    country=\"us\",\n",
    "    locale=\"en\",\n",
    "    location=\"Miami Beach, Florida, United States\",\n",
    "    n_results=5,\n",
    ")\n",
    "\n",
    "# First we define the Researcher Agent\n",
    "researcher_agent = Agent(\n",
    "    role=dedent((\n",
    "        \"\"\"\n",
    "        {topic} Senior Data Researcher\n",
    "        \"\"\")), # Think of this as the job title\n",
    "    backstory=dedent((\n",
    "        \"\"\"\n",
    "        You are a seasoned researcher with a knack for uncovering the latest developments in {topic}.\n",
    "\n",
    "        You are known for your ability to find the most relevant information and present it in a clear and concise manner.\n",
    "        \"\"\")), # This is the backstory of the agent, this helps the agent to understand the context of the task\n",
    "    goal=dedent((\n",
    "        \"\"\"\n",
    "        Uncover cutting-edge developments in {topic} and use the search_tool available to you to look up the latest information.\n",
    "        \n",
    "        Try to keep final answers in markdown format.\n",
    "        \"\"\")), # This is the goal that the agent is trying to achieve\n",
    "    tools=[search_tool],\n",
    "    allow_delegation=False,\n",
    "    max_iter=2,\n",
    "    max_retry_limit=3,\n",
    "    max_retries=3,\n",
    "    llm=llm,\n",
    "    verbose=True\n",
    ")\n",
    "\n",
    "# Next, we define the Reporting Analyst\n",
    "reporting_analyst = Agent(\n",
    "    role=dedent((\n",
    "        \"\"\"\n",
    "        {topic} Reporting Analyst\n",
    "        \"\"\")),\n",
    "    backstory=dedent((\n",
    "        \"\"\"\n",
    "        You are a meticulous analyst with a keen eye for detail. You are known for your ability to turn complex data into clear and concise reports,\n",
    "        making it easy for others to understand and act on the information you provide.\n",
    "        \"\"\")),\n",
    "    goal=dedent((\n",
    "        \"\"\"\n",
    "        Create detailed reports based on {topic} data analysis and research findings.\n",
    "        \"\"\")), # This is the goal that the agent is trying to achieve\n",
    "    allow_delegation=False,\n",
    "    max_iter=2,\n",
    "    max_retry_limit=3,\n",
    "    max_retries=3,\n",
    "    llm=llm,\n",
    "    verbose=True\n",
    ")"
   ]
  },
  {
   "cell_type": "markdown",
   "metadata": {},
   "source": [
    "Next, let's define the tasks for our agents to complete."
   ]
  },
  {
   "cell_type": "code",
   "execution_count": 7,
   "metadata": {
    "ExecuteTime": {
     "end_time": "2024-05-17T18:20:26.741468Z",
     "start_time": "2024-05-17T18:19:29.015624Z"
    },
    "cellView": "form",
    "id": "P8iHNKCfk9Rv"
   },
   "outputs": [],
   "source": [
    "# First, let's create a task for the researcher agent. Note below that we define which agent completes which task.\n",
    "research_task = Task(\n",
    "    description=dedent((\n",
    "        \"\"\"\n",
    "        Conduct thorough research about {topic}\n",
    "\n",
    "        Make sure you find any interesting and relevant information given the current year is 2025.\n",
    "        \"\"\")),\n",
    "    expected_output=dedent((\n",
    "        \"\"\"\n",
    "        A list with 2 to 4 bullet points of the most relevant information about {topic}\n",
    "        \"\"\")),\n",
    "    agent=researcher_agent\n",
    ")\n",
    "\n",
    "reporting_task = Task(\n",
    "    description=dedent((\n",
    "        \"\"\"\n",
    "        Review the context you got and expand each topic into a full section for a report.\n",
    "        Make sure the report is detailed and contains any and all relevant information.\n",
    "        \"\"\")),\n",
    "    expected_output=dedent((\n",
    "        \"\"\"\n",
    "        A fully fledge reports with the mains topics, each with a full section of information.\n",
    "        Formatted as markdown without '```'\n",
    "        \"\"\")),\n",
    "    agent=reporting_analyst,\n",
    "    output_file='report.md',\n",
    "    context=[research_task]\n",
    ")"
   ]
  },
  {
   "cell_type": "markdown",
   "metadata": {},
   "source": [
    "## 3.3 Create Sequential Agentic AI Workflow\n",
    "\n",
    "Now, let's put all of this together by placing the discrete agents and tasks into a crew."
   ]
  },
  {
   "cell_type": "code",
   "execution_count": 8,
   "metadata": {
    "ExecuteTime": {
     "end_time": "2024-05-17T18:26:09.810103Z",
     "start_time": "2024-05-17T18:25:59.838229Z"
    },
    "cellView": "form",
    "id": "BhAt-unGk4kA"
   },
   "outputs": [],
   "source": [
    "crew = Crew(\n",
    "        agents=[researcher_agent, reporting_analyst],\n",
    "        tasks=[research_task, reporting_task],\n",
    "        verbose=True,  # You can set it to True or False\n",
    "        # ↑ indicates the verbosity level for logging during execution.\n",
    "        process=Process.sequential\n",
    "    )"
   ]
  },
  {
   "cell_type": "markdown",
   "metadata": {},
   "source": [
    "## 3.4 Running a Practical Example\n",
    "\n",
    "Now, let's put all of this together by placing the discrete agents and tasks into a crew. First, we define an input topic. Feel free to change the topic to something else."
   ]
  },
  {
   "cell_type": "code",
   "execution_count": 9,
   "metadata": {
    "ExecuteTime": {
     "end_time": "2024-05-17T18:26:14.680431Z",
     "start_time": "2024-05-17T18:26:14.561004Z"
    },
    "cellView": "form",
    "id": "hZJwUoXasrhx"
   },
   "outputs": [],
   "source": [
    "# Notice here that the object we pass maps to the {topic} field we added to the agents and tasks.\n",
    "inputs = {\n",
    "        \"topic\": \"Top 5 Cities in Europe\",\n",
    "}"
   ]
  },
  {
   "cell_type": "markdown",
   "metadata": {},
   "source": [
    "Next, we create a function to run the crew with the given input. We have enabled verbose logging to help you see the agents execute each task."
   ]
  },
  {
   "cell_type": "code",
   "execution_count": 10,
   "metadata": {},
   "outputs": [
    {
     "name": "stdout",
     "output_type": "stream",
     "text": [
      "\u001b[1m\u001b[95m# Agent:\u001b[00m \u001b[1m\u001b[92m\u001b[00m\n",
      "\u001b[95m## Task:\u001b[00m \u001b[92m\n",
      "Conduct thorough research about Top 5 Cities in Europe\n",
      "\n",
      "Make sure you find any interesting and relevant information given the current year is 2025.\n",
      "\u001b[00m\n",
      "\n",
      "\n",
      "\u001b[1m\u001b[95m# Agent:\u001b[00m \u001b[1m\u001b[92m\u001b[00m\n",
      "\u001b[95m## Using tool:\u001b[00m \u001b[92mSearch the internet\u001b[00m\n",
      "\u001b[95m## Tool Input:\u001b[00m \u001b[92m\n",
      "\"{\\\"search_query\\\": \\\"Top 5 Cities in Europe 2025\\\"}\"\u001b[00m\n",
      "\u001b[95m## Tool Output:\u001b[00m \u001b[92m\n",
      "\n",
      "Search results: Title: Top European cities to visit in 2025 - The Social Hub\n",
      "Link: https://www.thesocialhub.co/blog/top-european-cities-to-visit-in-2025/\n",
      "Snippet: Why not explore bohemian Berlin, the ancient wonders of Rome or the colourful façades of Porto? From the UNESCO sites of Glasgow to the ...\n",
      "---\n",
      "Title: Best Places to Visit in Europe for 2025 - U.S. News Travel\n",
      "Link: https://travel.usnews.com/rankings/best-europe-vacations/\n",
      "Snippet: Best Places to Visit in Europe for 2025 · Swiss Alps · Rome · Venice · London, England · Paris · Florence · Amsterdam · Barcelona. #8 in Best ...\n",
      "---\n",
      "Title: 15 Best European Cities to Visit in 2025 - Citiesabc.com\n",
      "Link: https://www.citiesabc.com/safest-city/smart-city/15-best-european-cities-to-visit-in-2025/\n",
      "Snippet: According to recent studies, Paris, Rome, and London remain the top three most visited cities in Europe, while emerging destinations like ...\n",
      "---\n",
      "Title: The Best Places to Go in Europe in 2025 - Condé Nast Traveler\n",
      "Link: https://www.cntraveler.com/story/best-places-to-go-in-europe-2025\n",
      "Snippet: From new hotel openings in Marseille to celebrations of musical legends in Vienna, and Geneva taking center stage in the global sporting arena.\n",
      "---\n",
      "Title: What do you think of these as 'European cities to visit in 2025'?\n",
      "Link: https://www.reddit.com/r/Europetravel/comments/1go0ubd/what_do_you_think_of_these_as_european_cities_to/\n",
      "Snippet: Madrid, Istanbul, Dubrovnik, Bordeaux, Lisbon, Seville, Tbilisi,Tallinn, Vienna, Copenhagen. Have you been to many of them? Did you like them?\n",
      "---\n",
      "\u001b[00m\n",
      "\n",
      "\n",
      "\u001b[1m\u001b[95m# Agent:\u001b[00m \u001b[1m\u001b[92m\u001b[00m\n",
      "\u001b[95m## Thought:\u001b[00m \u001b[92mThought: \n",
      "I have some good starting points, let me summarize the observations and use it to uncover more details\n",
      "* Berlin, Rome, Porto, Glasgow, and Venice (seem to be the places mentioned)\n",
      "* Reliable sources like The Social Hub, U.S. News Travel, Citiesabc.com, Condé Nast Traveler, and Reddit (should provide reliable information)\u001b[00m\n",
      "\u001b[95m## Using tool:\u001b[00m \u001b[92mSearch the internet\u001b[00m\n",
      "\u001b[95m## Tool Input:\u001b[00m \u001b[92m\n",
      "\"{\\\"search_query\\\": \\\"Top 5 European cities ranking 2025\\\"}\"\u001b[00m\n",
      "\u001b[95m## Tool Output:\u001b[00m \u001b[92m\n",
      "\n",
      "Search results: Title: Top European cities to visit in 2025 - The Social Hub\n",
      "Link: https://www.thesocialhub.co/blog/top-european-cities-to-visit-in-2025/\n",
      "Snippet: Top European cities to visit in 2025 · Florence · When to visit · Maastricht · When to visit.\n",
      "---\n",
      "Title: Best Places to Visit in Europe for 2025 - U.S. News Travel\n",
      "Link: https://travel.usnews.com/rankings/best-europe-vacations/\n",
      "Snippet: Paris. #5 in Best Places to Visit in Europe for 2025. Paris is undoubtedly the beating heart of France ...\n",
      "---\n",
      "Title: 15 Best European Cities to Visit in 2025 - Citiesabc.com\n",
      "Link: https://www.citiesabc.com/safest-city/smart-city/15-best-european-cities-to-visit-in-2025/\n",
      "Snippet: 1. Paris, France. Paris, France. Paris · Eiffel Tower ; 2. Rome, Italy. Rome, Italy. Rome · Colosseum ; 3. Barcelona, Spain. Barcelona, Spain.\n",
      "---\n",
      "Title: 10 Best European Cities To Visit in 2025 - YouTube\n",
      "Link: https://www.youtube.com/watch?v=0XBQMYyaWMk\n",
      "Snippet: European Cities you must visit in 2025 Are you considering a big move or just wondering where to travel in Europe this year?\n",
      "---\n",
      "Title: 30 Best Cities to Visit in Europe in 2025 - Two Wandering Soles\n",
      "Link: https://www.twowanderingsoles.com/blog/european-cities\n",
      "Snippet: Home to some of the most impressive and influential cities in the world, we've rounded up the best cities to visit in Europe!\n",
      "---\n",
      "\u001b[00m\n",
      "\n",
      "\n",
      "\u001b[1m\u001b[95m# Agent:\u001b[00m \u001b[1m\u001b[92m\u001b[00m\n",
      "\u001b[95m## Final Answer:\u001b[00m \u001b[92m\n",
      "* The top 5 European cities to visit in 2025 are: \n",
      "    * Paris, France: A must-visit destination in Europe, Paris offers a rich history, art, fashion, and romantic atmosphere.\n",
      "    * Rome, Italy: A city with a rich history, Rome boasts iconic landmarks like the Colosseum, the Pantheon, and the Vatican City.\n",
      "    * Barcelona, Spain: Known for its stunning architecture, beaches, and cultural attractions, Barcelona is a vibrant and dynamic city.\n",
      "    * Florence, Italy: A city in the heart of Tuscany, Florence is famous for its art, architecture, and stunning landscapes.\n",
      "    * Venice, Italy: A city built on water, Venice is a must-visit destination for its unique architecture, canals, and romantic atmosphere.\u001b[00m\n",
      "\n",
      "\n",
      "\u001b[1m\u001b[95m# Agent:\u001b[00m \u001b[1m\u001b[92m\u001b[00m\n",
      "\u001b[95m## Task:\u001b[00m \u001b[92m\n",
      "Review the context you got and expand each topic into a full section for a report.\n",
      "Make sure the report is detailed and contains any and all relevant information.\n",
      "\u001b[00m\n",
      "\n",
      "\n",
      "\u001b[1m\u001b[95m# Agent:\u001b[00m \u001b[1m\u001b[92m\u001b[00m\n",
      "\u001b[95m## Final Answer:\u001b[00m \u001b[92m\n",
      "# Top 5 European Cities to Visit in 2025 Report\n",
      "\n",
      "## Executive Summary\n",
      "\n",
      "This report provides an in-depth analysis of the top 5 European cities to visit in 2025. The selected cities are Paris, Rome, Barcelona, Florence, and Venice, each offering a unique blend of history, culture, art, and entertainment. This report aims to provide travelers with a comprehensive guide to planning their European vacation and exploring the best that these cities have to offer.\n",
      "\n",
      "## City Analysis\n",
      "\n",
      "### Paris, France\n",
      "\n",
      "* **Must-visit attractions:**\n",
      "\t+ The Eiffel Tower\n",
      "\t+ The Louvre Museum\n",
      "\t+ Notre-Dame Cathedral\n",
      "\t+ Montmartre\n",
      "* **Best time to visit:** March to May or September to November\n",
      "* **Cultural events:** Bastille Day (July 14th), Paris Fashion Week (February and September)\n",
      "* **Local cuisine:** French cuisine, famous for its haute cuisine and patisserie\n",
      "* **History:** Paris has a rich history dating back to the Romans, with a significant impact on the city's architecture, art, and culture.\n",
      "\n",
      "### Rome, Italy\n",
      "\n",
      "* **Must-visit attractions:**\n",
      "\t+ The Colosseum\n",
      "\t+ The Pantheon\n",
      "\t+ The Vatican City\n",
      "\t+ The Trevi Fountain\n",
      "* **Best time to visit:** April to June or September to November\n",
      "* **Cultural events:** Conferimento delle Chiavi (January 6th), Carnevale Romano (February/March)\n",
      "* **Local cuisine:** Italian cuisine, famous for its pasta, pizza, and gelato\n",
      "* **History:** Rome has a rich history dating back to the ancient Romans, with a significant impact on the city's architecture, art, and culture.\n",
      "\n",
      "### Barcelona, Spain\n",
      "\n",
      "* **Must-visit attractions:**\n",
      "\t+ La Sagrada Família\n",
      "\t+ Park Güell\n",
      "\t+ La Rambla\n",
      "\t+ Barceloneta Beach\n",
      "* **Best time to visit:** March to May or September to November\n",
      "* **Cultural events:** La Mercè (September), La Tomatina (August)\n",
      "* **Local cuisine:** Catalan cuisine, famous for its seafood, tapas, and paella\n",
      "* **History:** Barcelona has a rich history dating back to the Romans, with a significant impact on the city's architecture, art, and culture.\n",
      "\n",
      "### Florence, Italy\n",
      "\n",
      "* **Must-visit attractions:**\n",
      "\t+ The Uffizi Gallery\n",
      "\t+ Ponte Vecchio\n",
      "\t+ Duomo\n",
      "\t+ Accademia Gallery (Michelangelo's David)\n",
      "* **Best time to visit:** March to May or September to November\n",
      "* **Cultural events:** Calcio Storico (June/July), Firenze Festival (June/July)\n",
      "* **Local cuisine:** Tuscan cuisine, famous for its ribollita, pappardelle, and cantucci\n",
      "* **History:** Florence has a rich history dating back to the Middle Ages, with a significant impact on the city's architecture, art, and culture.\n",
      "\n",
      "### Venice, Italy\n",
      "\n",
      "* **Must-visit attractions:**\n",
      "\t+ St. Mark's Square\n",
      "\t+ Doge's Palace\n",
      "\t+ Rialto Bridge\n",
      "\t+ Grand Canal\n",
      "* **Best time to visit:** April to June or September to November\n",
      "* **Cultural events:** Carnaval di Venezia (February/March), Festa del Redentore (July)\n",
      "* **Local cuisine:** Venetian cuisine, famous for its fritto misto, risotto al_createdables, and seafood\n",
      "* **History:** Venice has a rich history dating back to the Romans, with a significant impact on the city's architecture, art, and culture.\n",
      "\n",
      "## Travel Tips\n",
      "\n",
      "* **Language:** English is widely spoken in all five cities, but learning a few basic phrases in the local language will enhance your travel experience.\n",
      "* **Currency:** Euro (€) is the official currency in all five cities.\n",
      "* **Weather:** Spring and autumn are the best times to visit, with mild temperatures and fewer crowds.\n",
      "* **Getting around:** Public transportation, walking, and cycling are the most efficient ways to get around each city.\n",
      "* **Safety:** Take necessary precautions to ensure your safety, especially in crowded areas and tourist hotspots.\n",
      "\n",
      "## Conclusion\n",
      "\n",
      "This report highlights the top 5 European cities to visit in 2025, each offering a unique blend of history, culture, art, and entertainment. Whether you're interested in architecture, art, food, or fashion, these cities have something for everyone. With this report, travelers can plan their European vacation and explore the best that these cities have to offer.\u001b[00m\n",
      "\n",
      "\n"
     ]
    }
   ],
   "source": [
    "def run_crew():\n",
    "    result = crew.kickoff(inputs=inputs)\n",
    "run_crew()"
   ]
  },
  {
   "cell_type": "code",
   "execution_count": null,
   "metadata": {},
   "outputs": [],
   "source": []
  }
 ],
 "metadata": {
  "colab": {
   "include_colab_link": true,
   "private_outputs": true,
   "provenance": []
  },
  "kernelspec": {
   "display_name": "Python 3",
   "language": "python",
   "name": "python3"
  },
  "language_info": {
   "codemirror_mode": {
    "name": "ipython",
    "version": 3
   },
   "file_extension": ".py",
   "mimetype": "text/x-python",
   "name": "python",
   "nbconvert_exporter": "python",
   "pygments_lexer": "ipython3",
   "version": "3.10.14"
  }
 },
 "nbformat": 4,
 "nbformat_minor": 4
}
