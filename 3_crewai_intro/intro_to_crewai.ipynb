{
 "cells": [
  {
   "cell_type": "markdown",
   "metadata": {
    "id": "ANCxcFs-qVl4"
   },
   "source": [
    "# 3. Getting Started with CrewAI\n",
    "Welcome to the 3th exercise in the Cloudera Agentic AI Hands on Lab. In this notebook you will get familiar the CrewAI library and how we can leverage it with Cloudera's AI Inference Service. This notebook is designed to walk you through the setup and application of these tools in an agentic worfklow context to create a robust and intelligence system. \n",
    "\n",
    "- **Configure AI Inference:** A private Meta LLama 3.1 8B model will serve as the backbone of our AI agents, providing the computational power and linguistic understanding necessary for processing complex queries.\n",
    "- **Set up CrewAI Agents and Tasks:** We will leverage the CrewAI library to set up our AI agents with clear roles, backstories and goals. We will also configure tasks for each agent to complete and identify tools that they can leverage to complete their tasks.\n",
    "- **Create Sequential Agentic Workflow:** Next, we will orchestrate these agents and tasks into a crew and workflow for them to complete.\n",
    "- **Running a Practical Example:** We will then run our example workflow by providing inputs for the agentic workflow to consider and then complete the tasks they are configured to do."
   ]
  },
  {
   "cell_type": "markdown",
   "metadata": {},
   "source": [
    "## 3.1 Configuring AI Inference\n",
    "\n",
    "Let's start by configuring AI Inference's Llama 3.1 8B model as the Base Model we will use for the agents."
   ]
  },
  {
   "cell_type": "code",
   "execution_count": 58,
   "metadata": {},
   "outputs": [],
   "source": [
    "from crewai import Agent, Task, Crew, Process, LLM\n",
    "from crewai_tools import SerperDevTool\n",
    "import os\n",
    "import litellm\n",
    "import json\n",
    "import warnings\n",
    "warnings.filterwarnings('ignore')"
   ]
  },
  {
   "cell_type": "markdown",
   "metadata": {},
   "source": [
    "Below, we obtain the JWT token to use with the Inference Service and configure LiteLLM to work with our OpenAI-compatible endpoint."
   ]
  },
  {
   "cell_type": "code",
   "execution_count": 59,
   "metadata": {},
   "outputs": [],
   "source": [
    "# OPENAI_API_KEY=json.load(open(\"/tmp/jwt\"))[\"access_token\"]\n",
    "os.environ[\"AWS_REGION_NAME\"] = os.environ[\"AWS_DEFAULT_REGION\"]"
   ]
  },
  {
   "cell_type": "code",
   "execution_count": 60,
   "metadata": {},
   "outputs": [],
   "source": [
    "litellm.set_verbose=False\n",
    "\n",
    "# llm = LLM(\n",
    "#     model=\"openai/\" + os.environ[\"OPENAI_MODEL_NAME\"],\n",
    "#     api_key=OPENAI_API_KEY,\n",
    "#     base_url=os.environ[\"OPENAI_BASE_URL\"]\n",
    "# )\n",
    "\n",
    "llm = LLM(\"bedrock/\" + os.environ[\"AWS_BEDROCK_MODEL\"])"
   ]
  },
  {
   "cell_type": "markdown",
   "metadata": {},
   "source": [
    "## 3.2 Set Up CrewAI Agents and Tasks\n",
    "\n",
    "Next, let's set up the relevant Agents and Tasks using the CrewAI library. We will define 2 agents - One Researcher and One Reporting Analyst, and they will be tasked to research the topic assigned to them. For the purpose of this exercise, we will use the SerperDevTool to access the internet."
   ]
  },
  {
   "cell_type": "code",
   "execution_count": 61,
   "metadata": {
    "ExecuteTime": {
     "end_time": "2024-05-17T18:19:19.351863Z",
     "start_time": "2024-05-17T18:19:19.350191Z"
    },
    "cellView": "form",
    "id": "NsNLa6Qu0JEK"
   },
   "outputs": [],
   "source": [
    "from textwrap import dedent\n",
    "\n",
    "search_tool = SerperDevTool(\n",
    "    country=\"us\",\n",
    "    locale=\"en\",\n",
    "    location=\"New York, New York, United States\",\n",
    "    n_results=5,\n",
    ")\n",
    "\n",
    "# First we define the Researcher Agent\n",
    "researcher_agent = Agent(\n",
    "    role=dedent((\n",
    "        \"\"\"\n",
    "        {topic} Senior Data Researcher\n",
    "        \"\"\")), # Think of this as the job title\n",
    "    backstory=dedent((\n",
    "        \"\"\"\n",
    "        You are a seasoned researcher with a knack for uncovering the latest developments in {topic}.\n",
    "\n",
    "        You are known for your ability to find the most relevant information and present it in a clear and concise manner.\n",
    "        \"\"\")), # This is the backstory of the agent, this helps the agent to understand the context of the task\n",
    "    goal=dedent((\n",
    "        \"\"\"\n",
    "        Uncover cutting-edge developments in {topic} and use the search_tool available to you to look up the latest information.\n",
    "        \n",
    "        Try to keep final answers in markdown format.\n",
    "        \"\"\")), # This is the goal that the agent is trying to achieve\n",
    "    tools=[search_tool],\n",
    "    allow_delegation=False,\n",
    "    max_iter=2,\n",
    "    max_retry_limit=3,\n",
    "    max_retries=3,\n",
    "    llm=llm,\n",
    "    verbose=True\n",
    ")\n",
    "\n",
    "# Next, we define the Reporting Analyst\n",
    "reporting_analyst = Agent(\n",
    "    role=dedent((\n",
    "        \"\"\"\n",
    "        {topic} Reporting Analyst\n",
    "        \"\"\")),\n",
    "    backstory=dedent((\n",
    "        \"\"\"\n",
    "        You are a meticulous analyst with a keen eye for detail. You are known for your ability to turn complex data into clear and concise reports,\n",
    "        making it easy for others to understand and act on the information you provide.\n",
    "        \"\"\")),\n",
    "    goal=dedent((\n",
    "        \"\"\"\n",
    "        Create detailed reports based on {topic} data analysis and research findings.\n",
    "        \"\"\")), # This is the goal that the agent is trying to achieve\n",
    "    allow_delegation=False,\n",
    "    max_iter=2,\n",
    "    max_retry_limit=3,\n",
    "    max_retries=3,\n",
    "    llm=llm,\n",
    "    verbose=True\n",
    ")"
   ]
  },
  {
   "cell_type": "markdown",
   "metadata": {},
   "source": [
    "Next, let's define the tasks for our agents to complete."
   ]
  },
  {
   "cell_type": "code",
   "execution_count": 62,
   "metadata": {
    "ExecuteTime": {
     "end_time": "2024-05-17T18:20:26.741468Z",
     "start_time": "2024-05-17T18:19:29.015624Z"
    },
    "cellView": "form",
    "id": "P8iHNKCfk9Rv"
   },
   "outputs": [],
   "source": [
    "# First, let's create a task for the researcher agent. Note below that we define which agent completes which task.\n",
    "research_task = Task(\n",
    "    description=dedent((\n",
    "        \"\"\"\n",
    "        Conduct thorough research about {topic}\n",
    "\n",
    "        Make sure you find any interesting and relevant information given the current year is 2025.\n",
    "        \"\"\")),\n",
    "    expected_output=dedent((\n",
    "        \"\"\"\n",
    "        A list with 2 to 4 bullet points of the most relevant information about {topic}\n",
    "        \"\"\")),\n",
    "    agent=researcher_agent\n",
    ")\n",
    "\n",
    "reporting_task = Task(\n",
    "    description=dedent((\n",
    "        \"\"\"\n",
    "        Review the context you got and expand each topic into a full section for a report.\n",
    "        Make sure the report is detailed and contains any and all relevant information.\n",
    "        \"\"\")),\n",
    "    expected_output=dedent((\n",
    "        \"\"\"\n",
    "        A fully fledge reports with the mains topics, each with a full section of information.\n",
    "        Formatted as markdown without '```'\n",
    "        \"\"\")),\n",
    "    agent=reporting_analyst,\n",
    "    output_file='report.md',\n",
    "    context=[research_task]\n",
    ")"
   ]
  },
  {
   "cell_type": "markdown",
   "metadata": {},
   "source": [
    "## 3.3 Create Sequential Agentic AI Workflow\n",
    "\n",
    "Now, let's put all of this together by placing the discrete agents and tasks into a crew."
   ]
  },
  {
   "cell_type": "code",
   "execution_count": 63,
   "metadata": {
    "ExecuteTime": {
     "end_time": "2024-05-17T18:26:09.810103Z",
     "start_time": "2024-05-17T18:25:59.838229Z"
    },
    "cellView": "form",
    "id": "BhAt-unGk4kA"
   },
   "outputs": [
    {
     "name": "stderr",
     "output_type": "stream",
     "text": [
      "2025-03-12 18:41:22,722 - 140509682288448 - __init__.py-__init__:537 - WARNING: Overriding of current TracerProvider is not allowed\n"
     ]
    }
   ],
   "source": [
    "crew = Crew(\n",
    "        agents=[researcher_agent, reporting_analyst],\n",
    "        tasks=[research_task, reporting_task],\n",
    "        verbose=True,  # You can set it to True or False\n",
    "        # ↑ indicates the verbosity level for logging during execution.\n",
    "        process=Process.sequential\n",
    "    )"
   ]
  },
  {
   "cell_type": "markdown",
   "metadata": {},
   "source": [
    "## 3.4 Running a Practical Example\n",
    "\n",
    "Now, let's put all of this together by placing the discrete agents and tasks into a crew. First, we define an input topic. Feel free to change the topic to something else."
   ]
  },
  {
   "cell_type": "code",
   "execution_count": 64,
   "metadata": {
    "ExecuteTime": {
     "end_time": "2024-05-17T18:26:14.680431Z",
     "start_time": "2024-05-17T18:26:14.561004Z"
    },
    "cellView": "form",
    "id": "hZJwUoXasrhx"
   },
   "outputs": [],
   "source": [
    "# Notice here that the object we pass maps to the {topic} field we added to the agents and tasks.\n",
    "inputs = {\n",
    "        \"topic\": \"Top 5 Cities in Europe\",\n",
    "}"
   ]
  },
  {
   "cell_type": "markdown",
   "metadata": {},
   "source": [
    "Next, we create a function to run the crew with the given input. We have enabled verbose logging to help you see the agents execute each task."
   ]
  },
  {
   "cell_type": "code",
   "execution_count": 65,
   "metadata": {},
   "outputs": [
    {
     "name": "stdout",
     "output_type": "stream",
     "text": [
      "\u001b[1m\u001b[95m# Agent:\u001b[00m \u001b[1m\u001b[92m\u001b[00m\n",
      "\u001b[95m## Task:\u001b[00m \u001b[92m\n",
      "Conduct thorough research about Top 5 Cities in Europe\n",
      "\n",
      "Make sure you find any interesting and relevant information given the current year is 2025.\n",
      "\u001b[00m\n",
      "\n",
      "\n",
      "\u001b[1m\u001b[95m# Agent:\u001b[00m \u001b[1m\u001b[92m\u001b[00m\n",
      "\u001b[95m## Thought:\u001b[00m \u001b[92mThought: To conduct thorough research about the Top 5 Cities in Europe in 2025, I need to search for the most up-to-date information. I'll start by searching for recent rankings or lists of top European cities.\u001b[00m\n",
      "\u001b[95m## Using tool:\u001b[00m \u001b[92mSearch the internet\u001b[00m\n",
      "\u001b[95m## Tool Input:\u001b[00m \u001b[92m\n",
      "\"{\\\"search_query\\\": \\\"Top 5 Cities in Europe 2025 rankings\\\"}\"\u001b[00m\n",
      "\u001b[95m## Tool Output:\u001b[00m \u001b[92m\n",
      "\n",
      "Search results: Title: Best Places to Visit in Europe for 2025 - U.S. News Travel\n",
      "Link: https://travel.usnews.com/rankings/best-europe-vacations/\n",
      "Snippet: Best Places to Visit in Europe for 2025 · Swiss Alps · Rome · Venice · London, England · Paris · Florence · Amsterdam · Barcelona. #8 in Best ...\n",
      "---\n",
      "Title: 10 Best Countries To Visit In 2025, Per European Best Destinations\n",
      "Link: https://www.forbes.com/sites/joanneshurvell/2025/03/04/croatia-chosen-as-best-european-country-to-visit-in-2025/\n",
      "Snippet: Croatia has officially been crowned the Best Country to Visit in Europe in 2025, ahead of Spain (2nd), Austria (3rd), Italy (4th) and Greece ( ...\n",
      "---\n",
      "Title: Europe Cities by Population 2025\n",
      "Link: https://worldpopulationreview.com/cities/continent/europe\n",
      "Snippet: Moscow · Russia, 12,737,400. Paris · France, 11,346,800. London · United Kingdom, 9,840,740. Madrid · Spain, 6,810,530. Barcelona · Spain, 5,733,250.\n",
      "---\n",
      "Title: 23 Best Cities to Visit in Europe: Ranked and Evaluated for 2025\n",
      "Link: https://www.nextleveloftravel.com/must-visit-places/best-cities-to-visit-in-Europe/\n",
      "Snippet: My list of the coolest, most beautiful cities in Europe: Barcelona (Spain); Rome (Italy); Istanbul (Turkey); Berlin (Germany); Prague (Czech ...\n",
      "---\n",
      "Title: fDi's European Cities and Regions of the Future 2025\n",
      "Link: https://ecrof25.fdiintelligence.com/\n",
      "Snippet: The country's financial centre, Frankfurt, places first this year, followed by Hamburg in second place. Once again, a Polish city, Kraków, has ...\n",
      "---\n",
      "\u001b[00m\n",
      "\n",
      "\n",
      "\u001b[1m\u001b[95m# Agent:\u001b[00m \u001b[1m\u001b[92m\u001b[00m\n",
      "\u001b[95m## Thought:\u001b[00m \u001b[92mThought: Based on the search results, I have found some relevant information about top European cities for 2025. However, the information is not entirely consistent across sources, and some of it might be outdated. I'll need to synthesize this information to provide the most accurate and up-to-date list of Top 5 Cities in Europe for 2025.\u001b[00m\n",
      "\u001b[95m## Using tool:\u001b[00m \u001b[92mSearch the internet\u001b[00m\n",
      "\u001b[95m## Tool Input:\u001b[00m \u001b[92m\n",
      "\"{\\\"search_query\\\": \\\"Most livable and innovative European cities 2025\\\"}\"\u001b[00m\n",
      "\u001b[95m## Tool Output:\u001b[00m \u001b[92m\n",
      "\n",
      "Search results: Title: Europe's 10 Greenest Capitals: Sustainable City Breaks For 2025\n",
      "Link: https://www.forbes.com/sites/joanneshurvell/2025/01/02/europes-10-greenest-capitals-sustainable-city-breaks-for-2025/\n",
      "Snippet: More than 400 European cities are actively engaged in green development. Of these cities, Maribor, Slovenia has been named the Best Green Capital for 2025.\n",
      "---\n",
      "Title: This European City Is Where Expats Have the Best Quality of Life ...\n",
      "Link: https://www.travelandleisure.com/zurich-switzerland-best-city-for-expats-2025-report-8766561\n",
      "Snippet: Zurich, Switzerland, takes the top position, fueled by its outstanding public services, low crime rates, and a lively cultural scene.\n",
      "---\n",
      "Title: Travel news: The world's most lovable cities for 2025 - CNN\n",
      "Link: https://www.cnn.com/2024/11/30/travel/travel-news-worlds-best-cities-2025/index.html\n",
      "Snippet: The world's most lovable cities for 2025 · 1. London: · 2. Paris: · 3. New York: · 4. Tokyo: · 5. Rome: · 6. Barcelona: · 7. Madrid: · 8. Dubai: ...\n",
      "---\n",
      "Title: Top 10 Sustainable Cities in Europe: Examples and Insights - Thinkz\n",
      "Link: https://thinkz.ai/top-10-sustainable-cities-europe/\n",
      "Snippet: Helsinki aims to be the world's most functional city by 2025, driven by Smart City initiatives that enhance urban living, sustainability, and ...\n",
      "---\n",
      "Title: Best EU Cities for Startups in 2025: Top 10 Strategic Locations\n",
      "Link: https://www.femaleswitch.com/startup-blog-2025/tpost/e1sjup1e11-best-eu-cities-for-startups-in-2025-top\n",
      "Snippet: Top 10 EU Cities for Startups in 2025 · 1. Amsterdam, Netherlands · 2. Paris, France · 3. Madrid, Spain · 4. Barcelona, Spain · 5. Lyon, France · 6.\n",
      "---\n",
      "\u001b[00m\n",
      "\n",
      "\n",
      "\u001b[1m\u001b[95m# Agent:\u001b[00m \u001b[1m\u001b[92m\u001b[00m\n",
      "\u001b[95m## Final Answer:\u001b[00m \u001b[92m\n",
      "• London, UK: Retains its position as one of Europe's top cities, known for its global influence, cultural diversity, and innovation. In 2025, London continues to be a hub for finance, technology, and creative industries, while also making strides in sustainability and smart city initiatives.\n",
      "\n",
      "• Paris, France: Consistently ranks high among European cities, celebrated for its art, cuisine, and fashion. By 2025, Paris has further enhanced its appeal with improved sustainability efforts and continued innovation in urban planning, maintaining its status as a top destination for both tourists and professionals.\n",
      "\n",
      "• Amsterdam, Netherlands: Emerges as a leading city for startups and innovation in 2025. Known for its progressive policies, excellent quality of life, and strong focus on sustainability, Amsterdam has become a model for other European cities in balancing economic growth with environmental responsibility.\n",
      "\n",
      "• Zurich, Switzerland: Recognized as the best city for expats in 2025, Zurich offers an exceptional quality of life with its efficient public services, low crime rates, and vibrant cultural scene. The city's focus on finance, technology, and sustainability has solidified its position as one of Europe's most livable cities.\n",
      "\n",
      "• Barcelona, Spain: Continues to be a top European city in 2025, known for its unique blend of history, culture, and innovation. Barcelona has made significant strides in becoming a smart city, with initiatives focusing on urban mobility, energy efficiency, and citizen engagement, making it an attractive destination for both tourists and tech professionals.\u001b[00m\n",
      "\n",
      "\n",
      "\u001b[1m\u001b[95m# Agent:\u001b[00m \u001b[1m\u001b[92m\u001b[00m\n",
      "\u001b[95m## Task:\u001b[00m \u001b[92m\n",
      "Review the context you got and expand each topic into a full section for a report.\n",
      "Make sure the report is detailed and contains any and all relevant information.\n",
      "\u001b[00m\n",
      "\n",
      "\n",
      "\u001b[1m\u001b[95m# Agent:\u001b[00m \u001b[1m\u001b[92m\u001b[00m\n",
      "\u001b[95m## Final Answer:\u001b[00m \u001b[92m\n",
      "# Top 5 Cities in Europe Report 2025\n",
      "\n",
      "## 1. London, United Kingdom\n",
      "\n",
      "London continues to maintain its position as one of Europe's premier cities in 2025, showcasing its enduring global influence, rich cultural diversity, and commitment to innovation. The city's strengths lie in several key areas:\n",
      "\n",
      "### Global Financial Hub\n",
      "London remains a powerhouse in the financial sector, with the City of London and Canary Wharf serving as nerve centers for international finance. The city's stock exchange, banking institutions, and financial services continue to play a crucial role in the global economy.\n",
      "\n",
      "### Technology and Innovation\n",
      "The city has further solidified its position as a major technology hub, with areas like Silicon Roundabout in East London continuing to attract startups and established tech companies alike. London's tech scene is characterized by a diverse range of sectors, including fintech, artificial intelligence, and cybersecurity.\n",
      "\n",
      "### Cultural Diversity\n",
      "London's multicultural population continues to be one of its greatest assets, contributing to a vibrant and diverse cultural scene. This diversity is reflected in the city's cuisine, festivals, and artistic expressions, making it a truly global metropolis.\n",
      "\n",
      "### Sustainability Initiatives\n",
      "By 2025, London has made significant strides in its sustainability efforts. The city has implemented more stringent emissions standards, expanded its network of cycling lanes, and increased its use of renewable energy sources. The Thames Tideway Tunnel project, completed in 2025, has greatly improved the city's wastewater management system.\n",
      "\n",
      "### Smart City Developments\n",
      "London has embraced smart city technologies to improve urban living. This includes the widespread implementation of IoT devices for traffic management, waste collection optimization, and air quality monitoring. The city's open data initiative has also fostered the development of numerous apps and services that enhance city life for residents and visitors alike.\n",
      "\n",
      "## 2. Paris, France\n",
      "\n",
      "Paris maintains its status as one of Europe's top cities in 2025, building on its rich cultural heritage while embracing modern innovations and sustainability practices.\n",
      "\n",
      "### Cultural Capital\n",
      "Paris continues to be synonymous with art, fashion, and gastronomy. The city's world-renowned museums, including the Louvre and the Centre Pompidou, have expanded their digital offerings, allowing for greater accessibility to their collections. The fashion industry in Paris remains at the forefront of global trends, with a growing emphasis on sustainable and ethical fashion.\n",
      "\n",
      "### Culinary Excellence\n",
      "The Parisian food scene continues to evolve, balancing its rich culinary traditions with innovative concepts. The city has seen a rise in farm-to-table restaurants and a greater focus on sustainable gastronomy, further cementing its reputation as a global culinary capital.\n",
      "\n",
      "### Urban Planning and Sustainability\n",
      "By 2025, Paris has made significant progress in its ambitious urban planning initiatives. The \"15-minute city\" concept, where residents can meet most of their needs within a short walk or bike ride from their homes, has been widely implemented across the city. This has led to more vibrant local communities and reduced reliance on cars.\n",
      "\n",
      "### Green Spaces\n",
      "The city has dramatically increased its green spaces, with the completion of several urban forests and the expansion of its urban agriculture program. Rooftop gardens and vertical farming have become common sights across Paris, improving air quality and enhancing biodiversity.\n",
      "\n",
      "### Transportation Innovation\n",
      "Paris has further improved its already excellent public transportation system. The Grand Paris Express project, a massive expansion of the city's metro system, has neared completion, dramatically improving connectivity within the greater Paris region. Additionally, the city has significantly expanded its network of bicycle lanes and pedestrian-only areas.\n",
      "\n",
      "## 3. Amsterdam, Netherlands\n",
      "\n",
      "By 2025, Amsterdam has emerged as a leading city for startups and innovation in Europe, known for its progressive policies, high quality of life, and strong commitment to sustainability.\n",
      "\n",
      "### Startup Ecosystem\n",
      "Amsterdam's startup scene has flourished, with the city becoming a major hub for European entrepreneurship. The Amsterdam Science Park and other innovation districts have expanded, providing fertile ground for tech startups, particularly in fields such as artificial intelligence, blockchain, and clean energy.\n",
      "\n",
      "### Sustainable Urban Development\n",
      "Amsterdam has doubled down on its commitment to sustainability. The city has made significant progress towards its goal of becoming fully circular by 2050, with innovative waste management systems and the widespread adoption of circular economy principles in construction and manufacturing.\n",
      "\n",
      "### Smart Mobility\n",
      "The city's transportation system has become even more efficient and sustainable. Electric vehicles, including boats for the city's famous canals, have become the norm. The cycling infrastructure, already world-renowned, has been further expanded and improved, with dedicated cycle highways connecting Amsterdam to neighboring cities.\n",
      "\n",
      "### Work-Life Balance\n",
      "Amsterdam continues to be recognized for its excellent work-life balance. The Dutch approach to work, which emphasizes productivity over long hours, has been further refined. This, combined with the city's compact size and efficient public services, contributes to a high quality of life for residents.\n",
      "\n",
      "### Cultural Scene\n",
      "While embracing innovation, Amsterdam has not lost touch with its rich cultural heritage. The city's museums, including the Rijksmuseum and the Van Gogh Museum, have incorporated cutting-edge technology to enhance visitor experiences. The city's vibrant arts scene continues to thrive, with increased support for local artists and creative industries.\n",
      "\n",
      "## 4. Zurich, Switzerland\n",
      "\n",
      "In 2025, Zurich stands out as the best city for expats, offering an exceptional quality of life characterized by efficient public services, low crime rates, and a thriving cultural scene.\n",
      "\n",
      "### Financial Center\n",
      "Zurich maintains its position as one of the world's leading financial centers. The city has successfully balanced its traditional strengths in banking and insurance with emerging fintech innovations, creating a dynamic and forward-looking financial ecosystem.\n",
      "\n",
      "### Quality of Life\n",
      "The city consistently ranks at the top of global quality of life indices. This is due to a combination of factors including:\n",
      "- Excellent healthcare system\n",
      "- High-quality education at all levels\n",
      "- Clean and safe environment\n",
      "- Efficient public transportation\n",
      "- Beautiful natural surroundings with easy access to lakes and mountains\n",
      "\n",
      "### Innovation and Technology\n",
      "Zurich has established itself as a major tech hub, particularly in the fields of artificial intelligence, robotics, and blockchain technology. The ETH Zurich (Swiss Federal Institute of Technology) continues to be a world-leading institution, producing cutting-edge research and a steady stream of highly skilled graduates.\n",
      "\n",
      "### Sustainability Efforts\n",
      "The city has made significant strides in sustainability, with ambitious goals to become carbon-neutral. Zurich has implemented extensive green building standards, expanded its already excellent public transportation system, and invested heavily in renewable energy sources.\n",
      "\n",
      "### Cultural Vibrancy\n",
      "While often overlooked in favor of its economic strengths, Zurich's cultural scene has flourished. The city boasts a diverse range of museums, theaters, and music venues. The annual Zurich Film Festival has grown in prominence, attracting international talent and further enhancing the city's cultural appeal.\n",
      "\n",
      "## 5. Barcelona, Spain\n",
      "\n",
      "Barcelona continues to be a top European city in 2025, successfully blending its rich history and culture with cutting-edge innovation and smart city initiatives.\n",
      "\n",
      "### Smart City Pioneer\n",
      "Barcelona has cemented its position as a global leader in smart city technologies. Key initiatives include:\n",
      "- Advanced urban mobility solutions, including smart traffic management systems and an expanded network of electric vehicle charging stations\n",
      "- Energy-efficient street lighting with integrated sensors for air quality and noise monitoring\n",
      "- Smart waste management systems optimizing collection routes and encouraging recycling\n",
      "- Widespread public Wi-Fi and 5G coverage enhancing digital connectivity across the city\n",
      "\n",
      "### Urban Planning and Sustainability\n",
      "The city has continued to implement its innovative urban planning concept, the \"superblocks\" (superilles), which prioritize pedestrian and cyclist spaces over cars. This has led to significant improvements in air quality and livability in many neighborhoods.\n",
      "\n",
      "### Technology Hub\n",
      "Barcelona's 22@ district, the city's innovation district, has expanded and evolved. It now hosts a diverse ecosystem of startups, established tech companies, research centers, and universities. The city has become particularly strong in areas such as IoT, mobile technologies, and smart city solutions.\n",
      "\n",
      "### Cultural Heritage and Tourism\n",
      "While embracing modernity, Barcelona continues to preserve and celebrate its unique cultural heritage. The city has implemented innovative technologies to manage tourism more sustainably, including AI-powered crowd management systems at popular sites like the Sagrada Familia and Park Güell.\n",
      "\n",
      "### Quality of Life\n",
      "Barcelona's Mediterranean lifestyle, combined with its technological advancements, continues to attract both tourists and professionals. The city offers:\n",
      "- A vibrant food scene, from traditional Catalan cuisine to innovative fusion restaurants\n",
      "- Beautiful beaches and green spaces within the city limits\n",
      "- A thriving arts and music scene, with world-class museums and festivals\n",
      "- Excellent public transportation and increasing bicycle infrastructure\n",
      "\n",
      "Through these initiatives and developments, Barcelona has successfully positioned itself as a city that offers the best of both worlds – rich cultural heritage and cutting-edge innovation – making it an attractive destination for tourists, professionals, and businesses alike.\u001b[00m\n",
      "\n",
      "\n"
     ]
    }
   ],
   "source": [
    "def run_crew():\n",
    "    result = crew.kickoff(inputs=inputs)\n",
    "run_crew()"
   ]
  },
  {
   "cell_type": "markdown",
   "metadata": {},
   "source": [
    "Congrats! You just created your first agent today! Next - we will show how agents can be stitched together to create complex applications."
   ]
  }
 ],
 "metadata": {
  "colab": {
   "include_colab_link": true,
   "private_outputs": true,
   "provenance": []
  },
  "kernelspec": {
   "display_name": "Python 3 (ipykernel)",
   "language": "python",
   "name": "python3"
  },
  "language_info": {
   "codemirror_mode": {
    "name": "ipython",
    "version": 3
   },
   "file_extension": ".py",
   "mimetype": "text/x-python",
   "name": "python",
   "nbconvert_exporter": "python",
   "pygments_lexer": "ipython3",
   "version": "3.10.14"
  }
 },
 "nbformat": 4,
 "nbformat_minor": 4
}
